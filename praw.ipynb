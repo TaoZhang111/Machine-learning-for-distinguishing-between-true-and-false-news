import praw
import csv
import sys
import sys
sys.path.append('Datathon')
import reddit_keys

import requests
from datetime import datetime
username = ''
password = ''
client_id = ''
client_secret = ''

reddit = praw.Reddit(
    username=username, password=password,
    client_id=client_id, client_secret=client_secret,
    user_agent="a custom python script for learning for " +
    username
)

csv_file = open('praw.csv', 'w', encoding='utf-8', newline='')
csv_writer = csv.writer(csv_file)
csv_writer.writerow(['title', 'text', 'Fake or Real', 'date'])

clubs = ["fakenews", 'newyorktimes', 'News_Politics', 'news', 'UpliftingNews',
         'PupliftingNews', 'politics']

for club in clubs:
    subreddit = reddit.subreddit(club)
    if club == "fakenews":
        p = "F"
    else:
        p = "R"
    for submission in subreddit.hot(limit=1000):
        if len(submission.selftext) > 50:
            if submission.is_self:
                title = submission.title
                text = submission.selftext
                Fake_or_True = p
                created_utc = submission.created_utc
                created_datetime = datetime.utcfromtimestamp(created_utc)
                created_datetime_str = created_datetime.strftime('%Y-%m')

                csv_writer.writerow([title, text, Fake_or_True,
                                     created_datetime])
            else:
                title = submission.title
                url = submission.url

                response = requests.get(url)
                if response.status_code == 200:
                    text = response.text
                    Fake_or_True = p
                    created_utc = submission.created_utc
                    created_datetime = datetime.utcfromtimestamp(created_utc)
                    created_datetime_str = created_datetime.strftime('%Y-%m')
                    csv_writer.writerow([title, text, Fake_or_True,
                                         created_datetime])
csv_file.close()
